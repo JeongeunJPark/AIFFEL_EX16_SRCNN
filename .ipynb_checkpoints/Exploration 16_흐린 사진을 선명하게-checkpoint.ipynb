{
 "cells": [
  {
   "cell_type": "markdown",
   "metadata": {},
   "source": [
    "## 이 노드의 루브릭       \n",
    "\n",
    "1. SRGAN을 통해 고해상도의 이미지를 생성하였다.(SRGAN을 통해 생성된 이미지를 제출하였다.)\n",
    "2. 다양한 해상도의 이미지에 대해 시각화를 통해 원본, SRGAN생성본, interpolation 생성본을 비교 분석하였다.  \n",
    "(이미지의 특성과 Super Resolution 방법을 관련지어 생성 결과를 체계적으로 분석하였다.)\n",
    "3. 저해상도 gif 동영상을 고해상도 영상으로 성공적으로 변환하였다.   \n",
    "(저해상도 원본 gif와 생성된 고해상도 gif의 해상도 차이가 시각적으로 확인 가능하다.)"
   ]
  },
  {
   "cell_type": "markdown",
   "metadata": {},
   "source": [
    "## 목차           \n",
    "\n",
    "#### 1. 직접 고른 이미지로 SRGAN 실험하기(원래 고해상도)    \n",
    "- 1. Div2K의 이미지와 유사한 이미지를 골라 로드한다.\n",
    "- 2. Bicubic interpolation을 적용해 가로*세로 픽셀 수를 $1/4$ 로 줄인다.    \n",
    "- 3. 2에서 줄인 이미지를 SRGAN에 투입하여 고해상도 이미지를 생성한다. def apply_srgan이용   \n",
    "- 4. 2의 이미지에 다시 interpolation을 적용하여 가로*세로 픽셀 수를 4배로 늘린다. intepolation\n",
    "- 5. 3개 이미지(4(bicubic),3(SRGan),1(원본 이미지)를 나란히 시각화한다.(제목에 라벨링)    \n",
    "- 6. 이 때, Super Resolution을 했을 때 어떤 결과가 나왔으며, 왜 그런 것 같은지를 설명한다.\n",
    "\n",
    "---\n",
    "#### 2. 직접 고른 이미지로 SRGAN 실험하기(원래 저해상도)\n",
    "- 1. Div2K의 이미지와 유사한 __저해상도__ 이미지를 골라 로드한다.\n",
    "- 2. SRGAN에 투입하여 고해상도 이미지를 생성한다. def apply_srgan이용   \n",
    "- 3. 2의 이미지에 다시 interpolation을 적용하여 가로*세로 픽셀 수를 4배로 늘린다. intepolation\n",
    "- 4. 2개 이미지(3(bicubic),2(SRGan))를 나란히 시각화한다.(제목에 라벨링)    \n",
    "- 5. 이 때, Super Resolution을 했을 때 어떤 결과가 나왔으며, 왜 그런 것 같은지를 설명한다.      \n",
    "\n",
    "---\n",
    "#### 3. SRGAN을 이용해 고해상도 gif 생성하기      \n",
    "- 한 프레임씩 고해상도 이미지로 변환시켜 모든 프레임에 적용하고, 그 프레임을 합쳐 동영상으로 만들어본다.\n",
    "\n",
    "1. gif 파일 불러오기       \n",
    "2. 프레임별 Super Resolution 적용하기      \n",
    "3. 프레임을 합쳐 gif 만들기  \n",
    "4. jupyter notebook에 gif 표시하기"
   ]
  },
  {
   "cell_type": "markdown",
   "metadata": {},
   "source": [
    "## 1. 직접 고른 이미지로 SRGAN 실험하기     \n",
    "\n",
    "#### 1. Div2K의 이미지와 유사한 이미지를 골라 로드한다.        \n",
    "\n",
    "- 풍경이나 사물을 주제로 한 고화질 이미지를 찾아 로드한다."
   ]
  },
  {
   "cell_type": "code",
   "execution_count": null,
   "metadata": {},
   "outputs": [],
   "source": []
  },
  {
   "cell_type": "markdown",
   "metadata": {},
   "source": [
    "#### 2. bicubic을 이용해 고화질 이미지의 가로*세로 픽셀수를 $1/4$로 줄인다."
   ]
  },
  {
   "cell_type": "code",
   "execution_count": null,
   "metadata": {},
   "outputs": [],
   "source": [
    "#1/n으로 처리하는 함수를 정의한다.\n",
    "def interpolation_xn(image, n):\n",
    "    new_image = cv2.resize(\n",
    "    image, \n",
    "    dsize=(image[1]//n, image[0]//n))\n",
    "    \n",
    "    new_image = cv2.resize(\n",
    "    new_image, \n",
    "    dsize=(new_image[1], new_image[0]),\n",
    "    interpolation = cv.INTER_CUBIC)\n",
    "    \n",
    "    return new_image"
   ]
  },
  {
   "cell_type": "code",
   "execution_count": null,
   "metadata": {},
   "outputs": [],
   "source": []
  },
  {
   "cell_type": "code",
   "execution_count": null,
   "metadata": {},
   "outputs": [],
   "source": []
  },
  {
   "cell_type": "code",
   "execution_count": null,
   "metadata": {},
   "outputs": [],
   "source": []
  },
  {
   "cell_type": "code",
   "execution_count": null,
   "metadata": {},
   "outputs": [],
   "source": []
  },
  {
   "cell_type": "code",
   "execution_count": null,
   "metadata": {},
   "outputs": [],
   "source": []
  },
  {
   "cell_type": "code",
   "execution_count": null,
   "metadata": {},
   "outputs": [],
   "source": []
  },
  {
   "cell_type": "code",
   "execution_count": null,
   "metadata": {},
   "outputs": [],
   "source": []
  }
 ],
 "metadata": {
  "kernelspec": {
   "display_name": "aiffel",
   "language": "python",
   "name": "aiffel"
  },
  "language_info": {
   "codemirror_mode": {
    "name": "ipython",
    "version": 3
   },
   "file_extension": ".py",
   "mimetype": "text/x-python",
   "name": "python",
   "nbconvert_exporter": "python",
   "pygments_lexer": "ipython3",
   "version": "3.7.9"
  }
 },
 "nbformat": 4,
 "nbformat_minor": 4
}
